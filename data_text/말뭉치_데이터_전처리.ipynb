{
  "nbformat": 4,
  "nbformat_minor": 0,
  "metadata": {
    "colab": {
      "provenance": []
    },
    "kernelspec": {
      "name": "python3",
      "display_name": "Python 3"
    },
    "language_info": {
      "name": "python"
    }
  },
  "cells": [
    {
      "cell_type": "code",
      "source": [
        "from google.colab import drive\n",
        "drive.mount('/content/drive')"
      ],
      "metadata": {
        "colab": {
          "base_uri": "https://localhost:8080/"
        },
        "id": "GNTN5507FbB7",
        "outputId": "d0f24a41-08d3-4f6c-acb8-3f94c628a91d"
      },
      "execution_count": 1,
      "outputs": [
        {
          "output_type": "stream",
          "name": "stdout",
          "text": [
            "Mounted at /content/drive\n"
          ]
        }
      ]
    },
    {
      "cell_type": "code",
      "source": [
        "import numpy as np\n",
        "import pandas as pd"
      ],
      "metadata": {
        "id": "EHAtrMC9FCmq"
      },
      "execution_count": 2,
      "outputs": []
    },
    {
      "cell_type": "code",
      "source": [
        "df = pd.read_excel('/content/drive/MyDrive/YBIGTA/YBIGTA 투게더 프로젝트/대화 데이터/감성대화말뭉치(최종데이터)_Training.xlsx', index_col=0)\n",
        "df_val = pd.read_excel('/content/drive/MyDrive/YBIGTA/YBIGTA 투게더 프로젝트/대화 데이터/감성대화말뭉치(최종데이터)_Validation.xlsx', index_col=0)"
      ],
      "metadata": {
        "id": "8J2tRuIsGDpe"
      },
      "execution_count": 3,
      "outputs": []
    },
    {
      "cell_type": "code",
      "source": [
        "df.head()"
      ],
      "metadata": {
        "colab": {
          "base_uri": "https://localhost:8080/",
          "height": 414
        },
        "id": "4eeb_ijVJlRv",
        "outputId": "ee18880b-3983-45d4-994a-112fa4ad7753"
      },
      "execution_count": 6,
      "outputs": [
        {
          "output_type": "execute_result",
          "data": {
            "text/plain": [
              "   연령  성별     상황키워드  신체질환 감정_대분류 감정_소분류  \\\n",
              "1  청년  여성  진로,취업,직장  해당없음     분노  노여워하는   \n",
              "2  청년  여성  진로,취업,직장  해당없음     분노  노여워하는   \n",
              "3  청년  여성  진로,취업,직장  해당없음     분노  노여워하는   \n",
              "4  청년  여성  진로,취업,직장  해당없음     분노  노여워하는   \n",
              "5  청년  여성  진로,취업,직장  해당없음     분노  노여워하는   \n",
              "\n",
              "                                               사람문장1  \\\n",
              "1                          일은 왜 해도 해도 끝이 없을까? 화가 난다.   \n",
              "2     이번 달에 또 급여가 깎였어! 물가는 오르는데 월급만 자꾸 깎이니까 너무 화가 나.   \n",
              "3  회사에 신입이 들어왔는데 말투가 거슬려. 그런 애를 매일 봐야 한다고 생각하니까 스...   \n",
              "4  직장에서 막내라는 이유로 나에게만 온갖 심부름을 시켜. 일도 많은 데 정말 분하고 ...   \n",
              "5              얼마 전 입사한 신입사원이 나를 무시하는 것 같아서 너무 화가 나.   \n",
              "\n",
              "                                              시스템문장1  \\\n",
              "1                        많이 힘드시겠어요. 주위에 의논할 상대가 있나요?   \n",
              "2           급여가 줄어 속상하시겠어요. 월급이 줄어든 것을 어떻게 보완하실 건가요?   \n",
              "3  회사 동료 때문에 스트레스를 많이 받는 것 같아요. 문제 해결을 위해 어떤 노력을 ...   \n",
              "4  관련 없는 심부름을 모두 하게 되어서 노여우시군요. 어떤 것이 상황을 나아질 수 있...   \n",
              "5  무시하는 것 같은 태도에 화가 나셨군요. 상대방의 어떤 행동이 그런 감정을 유발하는...   \n",
              "\n",
              "                                               사람문장2  \\\n",
              "1                그냥 내가 해결하는 게 나아. 남들한테 부담 주고 싶지도 않고.   \n",
              "2   최대한 지출을 억제해야겠어. 월급이 줄어들었으니 고정지출을 줄일 수밖에 없을 것 같아.   \n",
              "3  잘 안 맞는 사람이랑 억지로 잘 지내는 것보단 조금은 거리를 두고 예의를 갖춰서 대...   \n",
              "4              직장 사람들과 솔직하게 이야기해보고 싶어. 일하는 데에 방해된다고.   \n",
              "5                상사인 나에게 먼저 인사하지 않아서 매일 내가 먼저 인사한다고!   \n",
              "\n",
              "                                              시스템문장2 사람문장3 시스템문장3  \n",
              "1     혼자 해결하기로 했군요. 혼자서 해결하기 힘들면 주위에 의논할 사람을 찾아보세요.    NaN    NaN  \n",
              "2                           월급이 줄어든 만큼 소비를 줄일 계획이군요.   NaN    NaN  \n",
              "3          스트레스받지 않기 위해선 인간관계에 있어 약간의 거리를 두는 게 좋겠군요.   NaN    NaN  \n",
              "4                        직장 사람들과 이야기를 해 보겠다고 결심하셨군요.   NaN    NaN  \n",
              "5  항상 먼저 인사하게 되어 화가 나셨군요. 어떻게 하면 신입사원에게 화났음을 표현할 ...   NaN    NaN  "
            ],
            "text/html": [
              "\n",
              "  <div id=\"df-2c42f600-bbbb-448b-ac27-37126ae40cb7\" class=\"colab-df-container\">\n",
              "    <div>\n",
              "<style scoped>\n",
              "    .dataframe tbody tr th:only-of-type {\n",
              "        vertical-align: middle;\n",
              "    }\n",
              "\n",
              "    .dataframe tbody tr th {\n",
              "        vertical-align: top;\n",
              "    }\n",
              "\n",
              "    .dataframe thead th {\n",
              "        text-align: right;\n",
              "    }\n",
              "</style>\n",
              "<table border=\"1\" class=\"dataframe\">\n",
              "  <thead>\n",
              "    <tr style=\"text-align: right;\">\n",
              "      <th></th>\n",
              "      <th>연령</th>\n",
              "      <th>성별</th>\n",
              "      <th>상황키워드</th>\n",
              "      <th>신체질환</th>\n",
              "      <th>감정_대분류</th>\n",
              "      <th>감정_소분류</th>\n",
              "      <th>사람문장1</th>\n",
              "      <th>시스템문장1</th>\n",
              "      <th>사람문장2</th>\n",
              "      <th>시스템문장2</th>\n",
              "      <th>사람문장3</th>\n",
              "      <th>시스템문장3</th>\n",
              "    </tr>\n",
              "  </thead>\n",
              "  <tbody>\n",
              "    <tr>\n",
              "      <th>1</th>\n",
              "      <td>청년</td>\n",
              "      <td>여성</td>\n",
              "      <td>진로,취업,직장</td>\n",
              "      <td>해당없음</td>\n",
              "      <td>분노</td>\n",
              "      <td>노여워하는</td>\n",
              "      <td>일은 왜 해도 해도 끝이 없을까? 화가 난다.</td>\n",
              "      <td>많이 힘드시겠어요. 주위에 의논할 상대가 있나요?</td>\n",
              "      <td>그냥 내가 해결하는 게 나아. 남들한테 부담 주고 싶지도 않고.</td>\n",
              "      <td>혼자 해결하기로 했군요. 혼자서 해결하기 힘들면 주위에 의논할 사람을 찾아보세요.</td>\n",
              "      <td>NaN</td>\n",
              "      <td>NaN</td>\n",
              "    </tr>\n",
              "    <tr>\n",
              "      <th>2</th>\n",
              "      <td>청년</td>\n",
              "      <td>여성</td>\n",
              "      <td>진로,취업,직장</td>\n",
              "      <td>해당없음</td>\n",
              "      <td>분노</td>\n",
              "      <td>노여워하는</td>\n",
              "      <td>이번 달에 또 급여가 깎였어! 물가는 오르는데 월급만 자꾸 깎이니까 너무 화가 나.</td>\n",
              "      <td>급여가 줄어 속상하시겠어요. 월급이 줄어든 것을 어떻게 보완하실 건가요?</td>\n",
              "      <td>최대한 지출을 억제해야겠어. 월급이 줄어들었으니 고정지출을 줄일 수밖에 없을 것 같아.</td>\n",
              "      <td>월급이 줄어든 만큼 소비를 줄일 계획이군요.</td>\n",
              "      <td>NaN</td>\n",
              "      <td>NaN</td>\n",
              "    </tr>\n",
              "    <tr>\n",
              "      <th>3</th>\n",
              "      <td>청년</td>\n",
              "      <td>여성</td>\n",
              "      <td>진로,취업,직장</td>\n",
              "      <td>해당없음</td>\n",
              "      <td>분노</td>\n",
              "      <td>노여워하는</td>\n",
              "      <td>회사에 신입이 들어왔는데 말투가 거슬려. 그런 애를 매일 봐야 한다고 생각하니까 스...</td>\n",
              "      <td>회사 동료 때문에 스트레스를 많이 받는 것 같아요. 문제 해결을 위해 어떤 노력을 ...</td>\n",
              "      <td>잘 안 맞는 사람이랑 억지로 잘 지내는 것보단 조금은 거리를 두고 예의를 갖춰서 대...</td>\n",
              "      <td>스트레스받지 않기 위해선 인간관계에 있어 약간의 거리를 두는 게 좋겠군요.</td>\n",
              "      <td>NaN</td>\n",
              "      <td>NaN</td>\n",
              "    </tr>\n",
              "    <tr>\n",
              "      <th>4</th>\n",
              "      <td>청년</td>\n",
              "      <td>여성</td>\n",
              "      <td>진로,취업,직장</td>\n",
              "      <td>해당없음</td>\n",
              "      <td>분노</td>\n",
              "      <td>노여워하는</td>\n",
              "      <td>직장에서 막내라는 이유로 나에게만 온갖 심부름을 시켜. 일도 많은 데 정말 분하고 ...</td>\n",
              "      <td>관련 없는 심부름을 모두 하게 되어서 노여우시군요. 어떤 것이 상황을 나아질 수 있...</td>\n",
              "      <td>직장 사람들과 솔직하게 이야기해보고 싶어. 일하는 데에 방해된다고.</td>\n",
              "      <td>직장 사람들과 이야기를 해 보겠다고 결심하셨군요.</td>\n",
              "      <td>NaN</td>\n",
              "      <td>NaN</td>\n",
              "    </tr>\n",
              "    <tr>\n",
              "      <th>5</th>\n",
              "      <td>청년</td>\n",
              "      <td>여성</td>\n",
              "      <td>진로,취업,직장</td>\n",
              "      <td>해당없음</td>\n",
              "      <td>분노</td>\n",
              "      <td>노여워하는</td>\n",
              "      <td>얼마 전 입사한 신입사원이 나를 무시하는 것 같아서 너무 화가 나.</td>\n",
              "      <td>무시하는 것 같은 태도에 화가 나셨군요. 상대방의 어떤 행동이 그런 감정을 유발하는...</td>\n",
              "      <td>상사인 나에게 먼저 인사하지 않아서 매일 내가 먼저 인사한다고!</td>\n",
              "      <td>항상 먼저 인사하게 되어 화가 나셨군요. 어떻게 하면 신입사원에게 화났음을 표현할 ...</td>\n",
              "      <td>NaN</td>\n",
              "      <td>NaN</td>\n",
              "    </tr>\n",
              "  </tbody>\n",
              "</table>\n",
              "</div>\n",
              "    <div class=\"colab-df-buttons\">\n",
              "\n",
              "  <div class=\"colab-df-container\">\n",
              "    <button class=\"colab-df-convert\" onclick=\"convertToInteractive('df-2c42f600-bbbb-448b-ac27-37126ae40cb7')\"\n",
              "            title=\"Convert this dataframe to an interactive table.\"\n",
              "            style=\"display:none;\">\n",
              "\n",
              "  <svg xmlns=\"http://www.w3.org/2000/svg\" height=\"24px\" viewBox=\"0 -960 960 960\">\n",
              "    <path d=\"M120-120v-720h720v720H120Zm60-500h600v-160H180v160Zm220 220h160v-160H400v160Zm0 220h160v-160H400v160ZM180-400h160v-160H180v160Zm440 0h160v-160H620v160ZM180-180h160v-160H180v160Zm440 0h160v-160H620v160Z\"/>\n",
              "  </svg>\n",
              "    </button>\n",
              "\n",
              "  <style>\n",
              "    .colab-df-container {\n",
              "      display:flex;\n",
              "      gap: 12px;\n",
              "    }\n",
              "\n",
              "    .colab-df-convert {\n",
              "      background-color: #E8F0FE;\n",
              "      border: none;\n",
              "      border-radius: 50%;\n",
              "      cursor: pointer;\n",
              "      display: none;\n",
              "      fill: #1967D2;\n",
              "      height: 32px;\n",
              "      padding: 0 0 0 0;\n",
              "      width: 32px;\n",
              "    }\n",
              "\n",
              "    .colab-df-convert:hover {\n",
              "      background-color: #E2EBFA;\n",
              "      box-shadow: 0px 1px 2px rgba(60, 64, 67, 0.3), 0px 1px 3px 1px rgba(60, 64, 67, 0.15);\n",
              "      fill: #174EA6;\n",
              "    }\n",
              "\n",
              "    .colab-df-buttons div {\n",
              "      margin-bottom: 4px;\n",
              "    }\n",
              "\n",
              "    [theme=dark] .colab-df-convert {\n",
              "      background-color: #3B4455;\n",
              "      fill: #D2E3FC;\n",
              "    }\n",
              "\n",
              "    [theme=dark] .colab-df-convert:hover {\n",
              "      background-color: #434B5C;\n",
              "      box-shadow: 0px 1px 3px 1px rgba(0, 0, 0, 0.15);\n",
              "      filter: drop-shadow(0px 1px 2px rgba(0, 0, 0, 0.3));\n",
              "      fill: #FFFFFF;\n",
              "    }\n",
              "  </style>\n",
              "\n",
              "    <script>\n",
              "      const buttonEl =\n",
              "        document.querySelector('#df-2c42f600-bbbb-448b-ac27-37126ae40cb7 button.colab-df-convert');\n",
              "      buttonEl.style.display =\n",
              "        google.colab.kernel.accessAllowed ? 'block' : 'none';\n",
              "\n",
              "      async function convertToInteractive(key) {\n",
              "        const element = document.querySelector('#df-2c42f600-bbbb-448b-ac27-37126ae40cb7');\n",
              "        const dataTable =\n",
              "          await google.colab.kernel.invokeFunction('convertToInteractive',\n",
              "                                                    [key], {});\n",
              "        if (!dataTable) return;\n",
              "\n",
              "        const docLinkHtml = 'Like what you see? Visit the ' +\n",
              "          '<a target=\"_blank\" href=https://colab.research.google.com/notebooks/data_table.ipynb>data table notebook</a>'\n",
              "          + ' to learn more about interactive tables.';\n",
              "        element.innerHTML = '';\n",
              "        dataTable['output_type'] = 'display_data';\n",
              "        await google.colab.output.renderOutput(dataTable, element);\n",
              "        const docLink = document.createElement('div');\n",
              "        docLink.innerHTML = docLinkHtml;\n",
              "        element.appendChild(docLink);\n",
              "      }\n",
              "    </script>\n",
              "  </div>\n",
              "\n",
              "\n",
              "<div id=\"df-2424adb4-3f86-4ff1-845f-a54f964fbaed\">\n",
              "  <button class=\"colab-df-quickchart\" onclick=\"quickchart('df-2424adb4-3f86-4ff1-845f-a54f964fbaed')\"\n",
              "            title=\"Suggest charts.\"\n",
              "            style=\"display:none;\">\n",
              "\n",
              "<svg xmlns=\"http://www.w3.org/2000/svg\" height=\"24px\"viewBox=\"0 0 24 24\"\n",
              "     width=\"24px\">\n",
              "    <g>\n",
              "        <path d=\"M19 3H5c-1.1 0-2 .9-2 2v14c0 1.1.9 2 2 2h14c1.1 0 2-.9 2-2V5c0-1.1-.9-2-2-2zM9 17H7v-7h2v7zm4 0h-2V7h2v10zm4 0h-2v-4h2v4z\"/>\n",
              "    </g>\n",
              "</svg>\n",
              "  </button>\n",
              "\n",
              "<style>\n",
              "  .colab-df-quickchart {\n",
              "      --bg-color: #E8F0FE;\n",
              "      --fill-color: #1967D2;\n",
              "      --hover-bg-color: #E2EBFA;\n",
              "      --hover-fill-color: #174EA6;\n",
              "      --disabled-fill-color: #AAA;\n",
              "      --disabled-bg-color: #DDD;\n",
              "  }\n",
              "\n",
              "  [theme=dark] .colab-df-quickchart {\n",
              "      --bg-color: #3B4455;\n",
              "      --fill-color: #D2E3FC;\n",
              "      --hover-bg-color: #434B5C;\n",
              "      --hover-fill-color: #FFFFFF;\n",
              "      --disabled-bg-color: #3B4455;\n",
              "      --disabled-fill-color: #666;\n",
              "  }\n",
              "\n",
              "  .colab-df-quickchart {\n",
              "    background-color: var(--bg-color);\n",
              "    border: none;\n",
              "    border-radius: 50%;\n",
              "    cursor: pointer;\n",
              "    display: none;\n",
              "    fill: var(--fill-color);\n",
              "    height: 32px;\n",
              "    padding: 0;\n",
              "    width: 32px;\n",
              "  }\n",
              "\n",
              "  .colab-df-quickchart:hover {\n",
              "    background-color: var(--hover-bg-color);\n",
              "    box-shadow: 0 1px 2px rgba(60, 64, 67, 0.3), 0 1px 3px 1px rgba(60, 64, 67, 0.15);\n",
              "    fill: var(--button-hover-fill-color);\n",
              "  }\n",
              "\n",
              "  .colab-df-quickchart-complete:disabled,\n",
              "  .colab-df-quickchart-complete:disabled:hover {\n",
              "    background-color: var(--disabled-bg-color);\n",
              "    fill: var(--disabled-fill-color);\n",
              "    box-shadow: none;\n",
              "  }\n",
              "\n",
              "  .colab-df-spinner {\n",
              "    border: 2px solid var(--fill-color);\n",
              "    border-color: transparent;\n",
              "    border-bottom-color: var(--fill-color);\n",
              "    animation:\n",
              "      spin 1s steps(1) infinite;\n",
              "  }\n",
              "\n",
              "  @keyframes spin {\n",
              "    0% {\n",
              "      border-color: transparent;\n",
              "      border-bottom-color: var(--fill-color);\n",
              "      border-left-color: var(--fill-color);\n",
              "    }\n",
              "    20% {\n",
              "      border-color: transparent;\n",
              "      border-left-color: var(--fill-color);\n",
              "      border-top-color: var(--fill-color);\n",
              "    }\n",
              "    30% {\n",
              "      border-color: transparent;\n",
              "      border-left-color: var(--fill-color);\n",
              "      border-top-color: var(--fill-color);\n",
              "      border-right-color: var(--fill-color);\n",
              "    }\n",
              "    40% {\n",
              "      border-color: transparent;\n",
              "      border-right-color: var(--fill-color);\n",
              "      border-top-color: var(--fill-color);\n",
              "    }\n",
              "    60% {\n",
              "      border-color: transparent;\n",
              "      border-right-color: var(--fill-color);\n",
              "    }\n",
              "    80% {\n",
              "      border-color: transparent;\n",
              "      border-right-color: var(--fill-color);\n",
              "      border-bottom-color: var(--fill-color);\n",
              "    }\n",
              "    90% {\n",
              "      border-color: transparent;\n",
              "      border-bottom-color: var(--fill-color);\n",
              "    }\n",
              "  }\n",
              "</style>\n",
              "\n",
              "  <script>\n",
              "    async function quickchart(key) {\n",
              "      const quickchartButtonEl =\n",
              "        document.querySelector('#' + key + ' button');\n",
              "      quickchartButtonEl.disabled = true;  // To prevent multiple clicks.\n",
              "      quickchartButtonEl.classList.add('colab-df-spinner');\n",
              "      try {\n",
              "        const charts = await google.colab.kernel.invokeFunction(\n",
              "            'suggestCharts', [key], {});\n",
              "      } catch (error) {\n",
              "        console.error('Error during call to suggestCharts:', error);\n",
              "      }\n",
              "      quickchartButtonEl.classList.remove('colab-df-spinner');\n",
              "      quickchartButtonEl.classList.add('colab-df-quickchart-complete');\n",
              "    }\n",
              "    (() => {\n",
              "      let quickchartButtonEl =\n",
              "        document.querySelector('#df-2424adb4-3f86-4ff1-845f-a54f964fbaed button');\n",
              "      quickchartButtonEl.style.display =\n",
              "        google.colab.kernel.accessAllowed ? 'block' : 'none';\n",
              "    })();\n",
              "  </script>\n",
              "</div>\n",
              "    </div>\n",
              "  </div>\n"
            ]
          },
          "metadata": {},
          "execution_count": 6
        }
      ]
    },
    {
      "cell_type": "code",
      "source": [
        "# 필요 없는 열 제거\n",
        "df = df.drop(['신체질환', '시스템문장1', '시스템문장2', '시스템문장3'], axis=1)\n",
        "df_val = df_val.drop(['신체질환', '시스템문장1', '시스템문장2', '시스템문장3'], axis=1)"
      ],
      "metadata": {
        "id": "ppB0VgkwHXRA"
      },
      "execution_count": 7,
      "outputs": []
    },
    {
      "cell_type": "code",
      "source": [
        "# 문장 합치기\n",
        "str_cols = ['사람문장1', '사람문장2', '사람문장3']\n",
        "for col in str_cols:\n",
        "    df[col] = df[col].fillna('').astype(str)\n",
        "    df_val[col] = df_val[col].fillna('').astype(str)\n",
        "\n",
        "df['사람문장'] = df[str_cols].apply(lambda x: ' '.join(x), axis=1)\n",
        "df = df.drop(str_cols, axis=1)\n",
        "\n",
        "df_val['사람문장'] = df_val[str_cols].apply(lambda x: ' '.join(x), axis=1)\n",
        "df_val = df_val.drop(str_cols, axis=1)"
      ],
      "metadata": {
        "id": "oGXSYujqHXPP"
      },
      "execution_count": 8,
      "outputs": []
    },
    {
      "cell_type": "code",
      "source": [
        "print(df.iloc[0]['사람문장'])\n",
        "print(df_val.iloc[0]['사람문장'])"
      ],
      "metadata": {
        "colab": {
          "base_uri": "https://localhost:8080/"
        },
        "id": "p-MyUPvsnUW7",
        "outputId": "8256c6e1-903a-41ef-d8bc-bd5def95befa"
      },
      "execution_count": 9,
      "outputs": [
        {
          "output_type": "stream",
          "name": "stdout",
          "text": [
            "일은 왜 해도 해도 끝이 없을까? 화가 난다. 그냥 내가 해결하는 게 나아. 남들한테 부담 주고 싶지도 않고. \n",
            "이번 프로젝트에서 발표를 하는데 내가 실수하는 바람에 우리 팀이 감점을 받았어. 너무 미안해. 내 능력이 부족한 거 같은데 그만 다녀야 될거같아. 퇴근 후 여가에 회사 일을 더 열심히 해서 피해가 가지 않도록 해야겠어.\n"
          ]
        }
      ]
    },
    {
      "cell_type": "code",
      "source": [
        "df.info()\n",
        "df_val.info()"
      ],
      "metadata": {
        "colab": {
          "base_uri": "https://localhost:8080/"
        },
        "id": "p8JuQvryT2Qb",
        "outputId": "19cd7d9d-f076-464f-d692-e7152b0426cd"
      },
      "execution_count": 10,
      "outputs": [
        {
          "output_type": "stream",
          "name": "stdout",
          "text": [
            "<class 'pandas.core.frame.DataFrame'>\n",
            "Int64Index: 51630 entries, 1 to 51630\n",
            "Data columns (total 6 columns):\n",
            " #   Column  Non-Null Count  Dtype \n",
            "---  ------  --------------  ----- \n",
            " 0   연령      51630 non-null  object\n",
            " 1   성별      51630 non-null  object\n",
            " 2   상황키워드   51630 non-null  object\n",
            " 3   감정_대분류  51630 non-null  object\n",
            " 4   감정_소분류  51630 non-null  object\n",
            " 5   사람문장    51630 non-null  object\n",
            "dtypes: object(6)\n",
            "memory usage: 2.8+ MB\n",
            "<class 'pandas.core.frame.DataFrame'>\n",
            "Int64Index: 6641 entries, 1 to 6641\n",
            "Data columns (total 6 columns):\n",
            " #   Column  Non-Null Count  Dtype \n",
            "---  ------  --------------  ----- \n",
            " 0   연령      6641 non-null   object\n",
            " 1   성별      6641 non-null   object\n",
            " 2   상황키워드   6641 non-null   object\n",
            " 3   감정_대분류  6641 non-null   object\n",
            " 4   감정_소분류  6641 non-null   object\n",
            " 5   사람문장    6641 non-null   object\n",
            "dtypes: object(6)\n",
            "memory usage: 363.2+ KB\n"
          ]
        }
      ]
    },
    {
      "cell_type": "code",
      "source": [
        "# 감정_대분류 '당황' : 제거\n",
        "df = df[df['감정_대분류'] != '당황']\n",
        "df_val = df_val[df_val['감정_대분류'] != '당황']"
      ],
      "metadata": {
        "id": "LVPI-XkZ_mao"
      },
      "execution_count": 11,
      "outputs": []
    },
    {
      "cell_type": "code",
      "source": [
        "# 감정_대분류 '당황' : '불안'과 합침\n",
        "#df.loc[df['감정_대분류'] == '당황', '감정_대분류'] = '당황/불안'\n",
        "#df.loc[df['감정_대분류'] == '불안', '감정_대분류'] = '당황/불안'\n",
        "\n",
        "#df_val.loc[df_val['감정_대분류'] == '당황', '감정_대분류'] = '당황/불안'\n",
        "#df_val.loc[df_val['감정_대분류'] == '불안', '감정_대분류'] = '당황/불안'"
      ],
      "metadata": {
        "id": "XPzH4bRSTq9w"
      },
      "execution_count": null,
      "outputs": []
    },
    {
      "cell_type": "code",
      "source": [
        "# 감정_대분류 '상처' : 대분류 라벨 변경 - 상처 유지하고 싶을 시 실행 xx\n",
        "df_copy = df.copy()\n",
        "df_val_copy = df_val.copy()\n",
        "\n",
        "for index, row in df_copy.iterrows():\n",
        "    if row['감정_대분류'] == '상처':\n",
        "        if row['감정_소분류'] in ['배신당한', '억울한', '질투하는']:\n",
        "            df_copy.at[index, '감정_대분류'] = '분노'\n",
        "        else:\n",
        "            df_copy.at[index, '감정_대분류'] = '슬픔'\n",
        "\n",
        "for index, row in df_val_copy.iterrows():\n",
        "    if row['감정_대분류'] == '상처':\n",
        "        if row['감정_소분류'] in ['배신당한', '억울한', '질투하는']:\n",
        "            df_val_copy.at[index, '감정_대분류'] = '분노'\n",
        "        else:\n",
        "            df_val_copy.at[index, '감정_대분류'] = '슬픔'\n",
        "\n",
        "df = df_copy\n",
        "df_val = df_val_copy"
      ],
      "metadata": {
        "id": "HJ4w3J0DOOH7"
      },
      "execution_count": 12,
      "outputs": []
    },
    {
      "cell_type": "code",
      "source": [
        "# 상황키워드 정리\n",
        "condition_dict = {'건강,죽음': '건강', '가족관계': '가족', '대인관계(부부, 자녀)': '가족', '재정,은퇴,노후준비':'재정', '직장, 업무 스트레스':'직장', '진로,취업,직장':'직장', '학업 및 진로':'진로'}\n",
        "\n",
        "df['상황키워드'] = df['상황키워드'].replace(condition_dict)\n",
        "df_val['상황키워드'] = df_val['상황키워드'].replace(condition_dict)"
      ],
      "metadata": {
        "id": "Nw-UesdnHXM_"
      },
      "execution_count": 13,
      "outputs": []
    },
    {
      "cell_type": "code",
      "source": [
        "df.info()\n",
        "df_val.info()"
      ],
      "metadata": {
        "colab": {
          "base_uri": "https://localhost:8080/"
        },
        "id": "dD6h9G6rHXKS",
        "outputId": "09edadae-ec8f-4daa-8305-25d9fa7f03e7"
      },
      "execution_count": 15,
      "outputs": [
        {
          "output_type": "stream",
          "name": "stdout",
          "text": [
            "<class 'pandas.core.frame.DataFrame'>\n",
            "Int64Index: 42874 entries, 1 to 51630\n",
            "Data columns (total 6 columns):\n",
            " #   Column  Non-Null Count  Dtype \n",
            "---  ------  --------------  ----- \n",
            " 0   연령      42874 non-null  object\n",
            " 1   성별      42874 non-null  object\n",
            " 2   상황키워드   42874 non-null  object\n",
            " 3   감정_대분류  42874 non-null  object\n",
            " 4   감정_소분류  42874 non-null  object\n",
            " 5   사람문장    42874 non-null  object\n",
            "dtypes: object(6)\n",
            "memory usage: 3.3+ MB\n",
            "<class 'pandas.core.frame.DataFrame'>\n",
            "Int64Index: 5593 entries, 1 to 6636\n",
            "Data columns (total 6 columns):\n",
            " #   Column  Non-Null Count  Dtype \n",
            "---  ------  --------------  ----- \n",
            " 0   연령      5593 non-null   object\n",
            " 1   성별      5593 non-null   object\n",
            " 2   상황키워드   5593 non-null   object\n",
            " 3   감정_대분류  5593 non-null   object\n",
            " 4   감정_소분류  5593 non-null   object\n",
            " 5   사람문장    5593 non-null   object\n",
            "dtypes: object(6)\n",
            "memory usage: 434.9+ KB\n"
          ]
        }
      ]
    },
    {
      "cell_type": "code",
      "source": [
        "emotion_counts = df['감정_대분류'].value_counts()\n",
        "emotion_counts"
      ],
      "metadata": {
        "colab": {
          "base_uri": "https://localhost:8080/"
        },
        "id": "nf8OCneHKOuA",
        "outputId": "8d419d0b-1f64-42ed-b90a-1135bd2f8465"
      },
      "execution_count": 16,
      "outputs": [
        {
          "output_type": "execute_result",
          "data": {
            "text/plain": [
              "슬픔    15477\n",
              "분노    11951\n",
              "불안     9320\n",
              "기쁨     6126\n",
              "Name: 감정_대분류, dtype: int64"
            ]
          },
          "metadata": {},
          "execution_count": 16
        }
      ]
    },
    {
      "cell_type": "code",
      "source": [
        "emotion_counts = df_val['감정_대분류'].value_counts()\n",
        "emotion_counts"
      ],
      "metadata": {
        "colab": {
          "base_uri": "https://localhost:8080/"
        },
        "id": "xlbPlsf2qytz",
        "outputId": "4b384d2b-9c07-4340-89d9-bdd6a2f333e2"
      },
      "execution_count": 20,
      "outputs": [
        {
          "output_type": "execute_result",
          "data": {
            "text/plain": [
              "슬픔    1723\n",
              "분노    1544\n",
              "기쁨    1213\n",
              "불안    1113\n",
              "Name: 감정_대분류, dtype: int64"
            ]
          },
          "metadata": {},
          "execution_count": 20
        }
      ]
    },
    {
      "cell_type": "code",
      "source": [
        "keyword_counts = df['상황키워드'].value_counts()\n",
        "keyword_counts"
      ],
      "metadata": {
        "colab": {
          "base_uri": "https://localhost:8080/"
        },
        "id": "DTfiG1ZuJRIN",
        "outputId": "7f05e823-6caa-4f3e-e30d-cece6c1d055e"
      },
      "execution_count": 17,
      "outputs": [
        {
          "output_type": "execute_result",
          "data": {
            "text/plain": [
              "대인관계        8988\n",
              "직장          6429\n",
              "재정          6399\n",
              "가족          6309\n",
              "건강          5984\n",
              "연애,결혼,출산    3445\n",
              "진로          2716\n",
              "학교폭력/따돌림    2604\n",
              "Name: 상황키워드, dtype: int64"
            ]
          },
          "metadata": {},
          "execution_count": 17
        }
      ]
    },
    {
      "cell_type": "code",
      "source": [
        "df.to_csv('/content/drive/MyDrive/YBIGTA/YBIGTA 투게더 프로젝트/대화 데이터/감성대화말뭉치(전처리)_Training.csv', index=False)"
      ],
      "metadata": {
        "id": "tWNxotvKnj96"
      },
      "execution_count": 21,
      "outputs": []
    },
    {
      "cell_type": "code",
      "source": [
        "df_val.to_csv('/content/drive/MyDrive/YBIGTA/YBIGTA 투게더 프로젝트/대화 데이터/감성대화말뭉치(전처리)_Validation.csv', index=False)"
      ],
      "metadata": {
        "id": "gU3Vmw-NoB4a"
      },
      "execution_count": 22,
      "outputs": []
    },
    {
      "cell_type": "code",
      "source": [],
      "metadata": {
        "id": "5PRi0yV5AZo-"
      },
      "execution_count": null,
      "outputs": []
    }
  ]
}